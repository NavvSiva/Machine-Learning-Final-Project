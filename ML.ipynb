{
 "cells": [
  {
   "cell_type": "code",
   "execution_count": 1,
   "id": "29d9c7a8-2c4c-4c8e-a518-21bc7159b09a",
   "metadata": {},
   "outputs": [
    {
     "name": "stdout",
     "output_type": "stream",
     "text": [
      "Data shape after cleaning: (1330816, 13)\n"
     ]
    }
   ],
   "source": [
    "import pandas as pd\n",
    "\n",
    "df = pd.read_csv('measures_v2.csv')\n",
    "\n",
    "df.rename(columns={'pm': 'motor_temperature'}, inplace=True)\n",
    "\n",
    "# Fill missing values using linear interpolation\n",
    "df.interpolate(method='linear', inplace=True)\n",
    "\n",
    "# Fill any remaining missing values using backward filling\n",
    "df.bfill(inplace=True)\n",
    "\n",
    "# Calculate first and third quartiles\n",
    "Q1 = df['motor_temperature'].quantile(0.25)\n",
    "Q3 = df['motor_temperature'].quantile(0.75)\n",
    "IQR = Q3 - Q1\n",
    "\n",
    "lower_bound = Q1 - 1.5 * IQR\n",
    "upper_bound = Q3 + 1.5 * IQR\n",
    "\n",
    "# Remove rows that is outside the bound range\n",
    "df = df[(df['motor_temperature'] >= lower_bound) & (df['motor_temperature'] <= upper_bound)]\n",
    "\n",
    "\n",
    "print(\"Data shape after cleaning:\", df.shape)\n"
   ]
  },
  {
   "cell_type": "code",
   "execution_count": 16,
   "id": "fe88191f-666f-42fd-8ecc-3c6cc7d3a426",
   "metadata": {},
   "outputs": [
    {
     "name": "stdout",
     "output_type": "stream",
     "text": [
      "Data shape after cleaning (1330810, 17)\n",
      "Cleaned data saved to 'processed_data.csv'\n"
     ]
    }
   ],
   "source": [
    "# Function to create lag features\n",
    "def create_lag_features(dataframe, column, num_lags=3):\n",
    "    for lag in range(1, num_lags + 1):\n",
    "        dataframe[f'{column}_lag_{lag}'] = dataframe[column].shift(lag)\n",
    "    return dataframe\n",
    "\n",
    "# Add lag features for the 'motor_temperature' column\n",
    "df = create_lag_features(df, 'motor_temperature', num_lags=3)\n",
    "\n",
    "# Calculate rolling mean of 'torque' over a window of 3 rows\n",
    "df['torque_roll_mean'] = df['torque'].rolling(window=3).mean()\n",
    "\n",
    "# Remove rows with any NaN values (caused by lag or rolling operations)\n",
    "df.dropna(inplace=True)\n",
    "\n",
    "print(\"Data shape after cleaning\", df.shape)\n",
    "\n",
    "# Save the cleaned DataFrame to a CSV file\n",
    "df.to_csv(\"processed_data.csv\", index=False)\n",
    "print(\"Cleaned data saved to 'processed_data.csv'\")\n",
    "\n"
   ]
  },
  {
   "cell_type": "code",
   "execution_count": 3,
   "id": "2d02c9f1-358d-42cb-8d6b-56f9499cdb93",
   "metadata": {},
   "outputs": [],
   "source": [
    "from sklearn.preprocessing import StandardScaler\n",
    "\n",
    "target_col = 'motor_temperature'\n",
    "feature_cols = [col for col in df.columns if col != target_col]\n",
    "\n",
    "X = df[feature_cols].values\n",
    "y = df[target_col].values\n",
    "\n",
    "scaler = StandardScaler()\n",
    "scaler.fit(X)\n",
    "\n",
    "X_scaled = scaler.transform(X)\n"
   ]
  },
  {
   "cell_type": "code",
   "execution_count": 4,
   "id": "424c7ea8-8cbf-4cb5-bd33-9840c8c2cb10",
   "metadata": {},
   "outputs": [
    {
     "name": "stdout",
     "output_type": "stream",
     "text": [
      "Training set shape: (931569, 16)\n",
      "Validation set shape: (199622, 16)\n",
      "Test set shape: (199622, 16)\n"
     ]
    }
   ],
   "source": [
    "import numpy as np\n",
    "\n",
    "n = len(df)\n",
    "train_end = int(n * 0.7) # Define the end index for training (70% of the data)\n",
    "val_end = int(n * 0.85) # Define the end index for validation (85% of the data)\n",
    "\n",
    "X_train = X_scaled[:train_end]\n",
    "y_train = y[:train_end]\n",
    "\n",
    "X_val = X_scaled[train_end:val_end]\n",
    "y_val = y[train_end:val_end]\n",
    "\n",
    "X_test = X_scaled[val_end:]\n",
    "y_test = y[val_end:]\n",
    "\n",
    "print(\"Training set shape:\", X_train.shape)\n",
    "print(\"Validation set shape:\", X_val.shape)\n",
    "print(\"Test set shape:\", X_test.shape)\n"
   ]
  },
  {
   "cell_type": "code",
   "execution_count": 26,
   "id": "ae644091-b94e-4b82-9068-42fbe7489625",
   "metadata": {},
   "outputs": [
    {
     "name": "stdout",
     "output_type": "stream",
     "text": [
      "Linear Regression Validation MSE: 0.07835347393695728\n"
     ]
    }
   ],
   "source": [
    "# Baseline Model: Linear Regression Model\n",
    "\n",
    "from sklearn.linear_model import LinearRegression\n",
    "from sklearn.ensemble import RandomForestRegressor\n",
    "from sklearn.metrics import mean_squared_error\n",
    "\n",
    "lr_model = LinearRegression()\n",
    "\n",
    "lr_model.fit(X_train, y_train)\n",
    "lr_preds = lr_model.predict(X_val)\n",
    "\n",
    "lr_mse = mean_squared_error(y_val, lr_preds)\n",
    "\n",
    "print(\"Linear Regression Validation MSE:\", lr_mse)\n",
    "\n"
   ]
  },
  {
   "cell_type": "code",
   "execution_count": 28,
   "id": "7f8ca635-8220-475a-be48-25584c487665",
   "metadata": {},
   "outputs": [
    {
     "name": "stdout",
     "output_type": "stream",
     "text": [
      "Training time: 0.23 seconds\n",
      "Random Forest Validation MSE: 0.09650606719444026\n"
     ]
    }
   ],
   "source": [
    "# Baseline Model: Random Forest Model\n",
    "\n",
    "import numpy as np\n",
    "from sklearn.ensemble import RandomForestRegressor\n",
    "from sklearn.metrics import mean_squared_error\n",
    "import time\n",
    "\n",
    "# Set a sample size for training to speed up training\n",
    "sample_size = 5000\n",
    "\n",
    "# Randomly select a subset\n",
    "if X_train.shape[0] > sample_size:\n",
    "    indices = np.random.choice(X_train.shape[0], sample_size, replace=False)\n",
    "    X_train_sample = X_train[indices]\n",
    "    y_train_sample = y_train[indices]\n",
    "else:\n",
    "    X_train_sample = X_train\n",
    "    y_train_sample = y_train\n",
    "\n",
    "# Create a Random Forest model with specified parameters\n",
    "rf_model = RandomForestRegressor(n_estimators=10, max_depth=10, n_jobs=1, random_state=42)\n",
    "\n",
    "\n",
    "start_time = time.time()\n",
    "rf_model.fit(X_train_sample, y_train_sample)\n",
    "end_time = time.time()\n",
    "print(\"Training time: {:.2f} seconds\".format(end_time - start_time))\n",
    "\n",
    "\n",
    "rf_preds = rf_model.predict(X_val)\n",
    "\n",
    "rf_mse = mean_squared_error(y_val, rf_preds)\n",
    "print(\"Random Forest Validation MSE:\", rf_mse)\n"
   ]
  },
  {
   "cell_type": "code",
   "execution_count": 13,
   "id": "e799e58c-e0dd-42d4-bf69-d612817b3890",
   "metadata": {},
   "outputs": [
    {
     "name": "stdout",
     "output_type": "stream",
     "text": [
      "XGBoost Validation MSE: 0.08526683527803415\n",
      "SVR Validation MSE: 0.7013052862571234\n"
     ]
    }
   ],
   "source": [
    "from sklearn.linear_model import LinearRegression\n",
    "from sklearn.ensemble import RandomForestRegressor\n",
    "import xgboost as xgb\n",
    "from sklearn.svm import SVR\n",
    "from sklearn.metrics import mean_squared_error\n",
    "import numpy as np\n",
    "import time\n",
    "\n",
    "# XGBoost Model\n",
    "\n",
    "xgb_model = xgb.XGBRegressor(\n",
    "    n_estimators=100,    \n",
    "    max_depth=5,         \n",
    "    learning_rate=0.1,   \n",
    "    random_state=42,     \n",
    "    n_jobs=1            \n",
    ")\n",
    "\n",
    "xgb_model.fit(X_train, y_train)\n",
    "\n",
    "\n",
    "xgb_preds = xgb_model.predict(X_val)\n",
    "\n",
    "\n",
    "xgb_mse = mean_squared_error(y_val, xgb_preds)\n",
    "print(\"XGBoost Validation MSE:\", xgb_mse)\n",
    "\n",
    "# SVR Model\n",
    "\n",
    "sample_size = 5000\n",
    "\n",
    "if X_train.shape[0] > sample_size:\n",
    "    indices = np.random.choice(X_train.shape[0], sample_size, replace=False)\n",
    "    X_train_sub = X_train[indices]\n",
    "    y_train_sub = y_train[indices]\n",
    "else:\n",
    "    X_train_sub = X_train\n",
    "    y_train_sub = y_train\n",
    "\n",
    "\n",
    "svr_model = SVR(\n",
    "    kernel='rbf',\n",
    "    C=1.0,       \n",
    "    gamma=0.01  \n",
    ")\n",
    "\n",
    "svr_model.fit(X_train_sub, y_train_sub)\n",
    "\n",
    "\n",
    "svr_preds = svr_model.predict(X_val)\n",
    "\n",
    "\n",
    "svr_mse = mean_squared_error(y_val, svr_preds)\n",
    "print(\"SVR Validation MSE:\", svr_mse)\n"
   ]
  }
 ],
 "metadata": {
  "kernelspec": {
   "display_name": "Python 3 (ipykernel)",
   "language": "python",
   "name": "python3"
  },
  "language_info": {
   "codemirror_mode": {
    "name": "ipython",
    "version": 3
   },
   "file_extension": ".py",
   "mimetype": "text/x-python",
   "name": "python",
   "nbconvert_exporter": "python",
   "pygments_lexer": "ipython3",
   "version": "3.12.7"
  }
 },
 "nbformat": 4,
 "nbformat_minor": 5
}
